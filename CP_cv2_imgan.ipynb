{
 "cells": [
  {
   "cell_type": "code",
   "execution_count": 1,
   "metadata": {},
   "outputs": [],
   "source": [
    "import cv2\n",
    "import numpy as np\n",
    "import sys\n",
    "import os\n",
    "import fnmatch"
   ]
  },
  {
   "cell_type": "code",
   "execution_count": 3,
   "metadata": {},
   "outputs": [],
   "source": [
    "def resize(fname, width, height):\n",
    "    image = cv2.imread(fname)\n",
    "    cv2.imshow('Original Image', image)\n",
    "    cv2.waitKey(0)\n",
    "    org_height, org_width = image.shape[0:2]\n",
    "    print('width:', org_width)\n",
    "    print('height:', org_height)\n",
    "    \n",
    "    if org_width >= org_height:\n",
    "        new_image = cv2.resize(image, (width, height))\n",
    "    else:\n",
    "        new_image = cv2.resize(image, (height, width))\n",
    "    \n",
    "    return fname, new_image\n",
    "\n",
    "#filename, new_image = resize('/Users/aslihankoksoy/Downloads/', 120, 60)"
   ]
  },
  {
   "cell_type": "code",
   "execution_count": null,
   "metadata": {},
   "outputs": [],
   "source": [
    "listOfFiles = os.listdir('.')\n",
    "pattern = '*.tif'\n",
    "n = len(sys.argv)\n",
    "if n==3:\n",
    "    width = int(sys.argv[1])\n",
    "    height = int(sys.argv[2])\n",
    "else:\n",
    "    width = 100\n",
    "    height = 50"
   ]
  },
  {
   "cell_type": "code",
   "execution_count": null,
   "metadata": {},
   "outputs": [],
   "source": [
    "n = len(sys.argv)\n",
    "if n==3:\n",
    "    width = int(sys.argv[1])\n",
    "    height = int(sys.argv[2])\n",
    "else:\n",
    "    width = 100\n",
    "    height = 50"
   ]
  },
  {
   "cell_type": "code",
   "execution_count": null,
   "metadata": {},
   "outputs": [],
   "source": [
    "if not os.path.exists('new_folder'):\n",
    "    os.makedirs('new_folder')"
   ]
  },
  {
   "cell_type": "code",
   "execution_count": null,
   "metadata": {},
   "outputs": [],
   "source": [
    "for filename in listOfFiles:\n",
    "    if fnmatch.fnmatch(filename, pattern):\n",
    "        filename, new_image = resize(filename, width, height)\n",
    "        cv2.imwrite('new_folder' + filename,  new_image)"
   ]
  },
  {
   "cell_type": "code",
   "execution_count": 4,
   "metadata": {
    "scrolled": false
   },
   "outputs": [],
   "source": [
    "#resize('/Users/aslihankoksoy/Desktop/kiki.png', 125, 250)"
   ]
  },
  {
   "cell_type": "code",
   "execution_count": null,
   "metadata": {},
   "outputs": [],
   "source": []
  },
  {
   "cell_type": "code",
   "execution_count": null,
   "metadata": {},
   "outputs": [],
   "source": [
    "def blur(image):\n",
    "    kernels = [3, 5, 9, 13]\n",
    "    for idx, k in enumerate(kernels):\n",
    "        image_bl = cv2.blur(image. ksize = (k,k))\n",
    "        cv2.imshow(str(k), image_bl)\n",
    "    return\n",
    "    \n",
    "    \n",
    "    "
   ]
  },
  {
   "cell_type": "code",
   "execution_count": null,
   "metadata": {},
   "outputs": [],
   "source": [
    "filename, new_image = resize('/Users/aslihankoksoy/Downloads/1xw435.tif', 125, 250)\n",
    "cv2.imshow('resized image', new_image) \n",
    "cv2.waitKey(0)\n",
    "cv2.blur(new_image)"
   ]
  }
 ],
 "metadata": {
  "kernelspec": {
   "display_name": "Python 3",
   "language": "python",
   "name": "python3"
  },
  "language_info": {
   "codemirror_mode": {
    "name": "ipython",
    "version": 3
   },
   "file_extension": ".py",
   "mimetype": "text/x-python",
   "name": "python",
   "nbconvert_exporter": "python",
   "pygments_lexer": "ipython3",
   "version": "3.7.6"
  }
 },
 "nbformat": 4,
 "nbformat_minor": 4
}
